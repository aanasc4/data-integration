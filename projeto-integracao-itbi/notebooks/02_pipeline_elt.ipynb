{
 "cells": [
  {
   "cell_type": "markdown",
   "id": "389a3807",
   "metadata": {},
   "source": [
    "# 🏗️ Pipeline ELT - Dados ITBI Recife 2023-2025\n",
    "\n",
    "**Projeto de Integração de Dados**  \n",
    "**ELT = Extract → Load → Transform**\n",
    "\n",
    "---\n",
    "\n",
    "## 📋 Objetivo\n",
    "Implementar um pipeline ELT completo para integrar dados do ITBI (Imposto sobre Transmissão de Bens Imóveis) da cidade do Recife dos anos 2023, 2024 e 2025.\n",
    "\n",
    "## 🔄 Diferença ETL vs ELT:\n",
    "- **ETL**: Extract → Transform → Load (transforma antes de carregar)\n",
    "- **ELT**: Extract → Load → Transform (carrega dados brutos, transforma no banco)\n",
    "\n",
    "## 📊 Fontes de Dados:\n",
    "- Portal de Dados Abertos do Recife\n",
    "- Datasets ITBI 2023, 2024, 2025\n",
    "- Formato: CSV com separador ';'"
   ]
  },
  {
   "cell_type": "code",
   "execution_count": null,
   "id": "5a41a2b7",
   "metadata": {},
   "outputs": [
    {
     "ename": "ModuleNotFoundError",
     "evalue": "No module named 'requests'",
     "output_type": "error",
     "traceback": [
      "\u001b[31m---------------------------------------------------------------------------\u001b[39m",
      "\u001b[31mModuleNotFoundError\u001b[39m                       Traceback (most recent call last)",
      "\u001b[36mCell\u001b[39m\u001b[36m \u001b[39m\u001b[32mIn[4]\u001b[39m\u001b[32m, line 7\u001b[39m\n\u001b[32m      5\u001b[39m \u001b[38;5;28;01mimport\u001b[39;00m\u001b[38;5;250m \u001b[39m\u001b[34;01mpandas\u001b[39;00m\u001b[38;5;250m \u001b[39m\u001b[38;5;28;01mas\u001b[39;00m\u001b[38;5;250m \u001b[39m\u001b[34;01mpd\u001b[39;00m\n\u001b[32m      6\u001b[39m \u001b[38;5;28;01mimport\u001b[39;00m\u001b[38;5;250m \u001b[39m\u001b[34;01msqlite3\u001b[39;00m\n\u001b[32m----> \u001b[39m\u001b[32m7\u001b[39m \u001b[38;5;28;01mimport\u001b[39;00m\u001b[38;5;250m \u001b[39m\u001b[34;01mrequests\u001b[39;00m\n\u001b[32m      8\u001b[39m \u001b[38;5;28;01mimport\u001b[39;00m\u001b[38;5;250m \u001b[39m\u001b[34;01mos\u001b[39;00m\n\u001b[32m      9\u001b[39m \u001b[38;5;28;01mfrom\u001b[39;00m\u001b[38;5;250m \u001b[39m\u001b[34;01mdatetime\u001b[39;00m\u001b[38;5;250m \u001b[39m\u001b[38;5;28;01mimport\u001b[39;00m datetime\n",
      "\u001b[31mModuleNotFoundError\u001b[39m: No module named 'requests'"
     ]
    }
   ],
   "source": [
    "# Instalar dependências necessárias\n",
    "pip install requests matplotlib seaborn plotly\n",
    "\n",
    "# Imports\n",
    "import pandas as pd\n",
    "import sqlite3\n",
    "import requests\n",
    "import os\n",
    "from datetime import datetime\n",
    "import matplotlib.pyplot as plt\n",
    "import seaborn as sns\n",
    "import warnings\n",
    "warnings.filterwarnings('ignore')\n",
    "\n",
    "# Configurações de visualização\n",
    "plt.style.use('default')\n",
    "sns.set_palette(\"husl\")\n",
    "\n",
    "print(\"✅ Dependências instaladas e configuradas!\")\n",
    "print(f\"📅 Execução iniciada em: {datetime.now().strftime('%Y-%m-%d %H:%M:%S')}\")"
   ]
  }
 ],
 "metadata": {
  "kernelspec": {
   "display_name": "Python 3",
   "language": "python",
   "name": "python3"
  },
  "language_info": {
   "codemirror_mode": {
    "name": "ipython",
    "version": 3
   },
   "file_extension": ".py",
   "mimetype": "text/x-python",
   "name": "python",
   "nbconvert_exporter": "python",
   "pygments_lexer": "ipython3",
   "version": "3.13.5"
  }
 },
 "nbformat": 4,
 "nbformat_minor": 5
}
